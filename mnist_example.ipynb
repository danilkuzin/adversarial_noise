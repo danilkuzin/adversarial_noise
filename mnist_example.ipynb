{
 "cells": [
  {
   "cell_type": "markdown",
   "id": "f112c93c-0592-4acf-bf4c-f7b1411c512e",
   "metadata": {},
   "source": [
    "## Minimal example"
   ]
  },
  {
   "cell_type": "markdown",
   "id": "9c7a3124-ec5f-4286-9fe3-072f8922ed24",
   "metadata": {},
   "source": [
    "Adversarial attacks on MNIST with torch"
   ]
  },
  {
   "cell_type": "code",
   "execution_count": 24,
   "id": "959edd18-f103-47be-b8fb-13ba1e7a121b",
   "metadata": {},
   "outputs": [],
   "source": [
    "import torch\n",
    "import torchvision\n",
    "import copy"
   ]
  },
  {
   "cell_type": "code",
   "execution_count": 2,
   "id": "6c428a13-9e0c-40f3-91dc-c1b5d866494d",
   "metadata": {},
   "outputs": [],
   "source": [
    "num_train_epochs = 5"
   ]
  },
  {
   "cell_type": "markdown",
   "id": "73f53b81-6da5-43dd-909c-0af5b40c8ac2",
   "metadata": {},
   "source": [
    "### Prepare data"
   ]
  },
  {
   "cell_type": "code",
   "execution_count": 3,
   "id": "8597308b-a864-4a0a-8929-84c9f03e2b23",
   "metadata": {},
   "outputs": [],
   "source": [
    "train_transform = torchvision.transforms.Compose(\n",
    "            [\n",
    "                torchvision.transforms.ToTensor(),\n",
    "                torchvision.transforms.Normalize((0.1307,), (0.3081,)),\n",
    "            ]\n",
    "        )\n",
    "val_transform = test_transform = torchvision.transforms.Compose(\n",
    "            [\n",
    "                torchvision.transforms.ToTensor(),\n",
    "                torchvision.transforms.Normalize((0.1325,), (0.3105,)),\n",
    "            ]\n",
    "        )"
   ]
  },
  {
   "cell_type": "code",
   "execution_count": 4,
   "id": "005ef065-2cfd-4bf3-b2db-53ad557a5464",
   "metadata": {},
   "outputs": [],
   "source": [
    "train_dataset = torchvision.datasets.MNIST(root='./data', train=True, download=True, transform=train_transform)\n",
    "val_dataset = torchvision.datasets.MNIST(root='./data', train=False, download=True, transform=val_transform)"
   ]
  },
  {
   "cell_type": "code",
   "execution_count": 5,
   "id": "d53219ca-2d80-4ee7-ae3f-2f27344736db",
   "metadata": {},
   "outputs": [],
   "source": [
    "train_dataloader = torch.utils.data.DataLoader(\n",
    "            dataset=train_dataset,\n",
    "            batch_size=24,\n",
    "            shuffle=True,\n",
    "            drop_last=True,\n",
    "            num_workers=2,\n",
    "        )\n",
    "val_dataloader = torch.utils.data.DataLoader(\n",
    "            dataset=val_dataset,\n",
    "            batch_size=24,\n",
    "            shuffle=False,\n",
    "            drop_last=False,\n",
    "            num_workers=0,\n",
    "        )"
   ]
  },
  {
   "cell_type": "markdown",
   "id": "fd17d936-063a-42c7-b9fd-fbab01a00ab7",
   "metadata": {},
   "source": [
    "### Model "
   ]
  },
  {
   "cell_type": "code",
   "execution_count": 6,
   "id": "f0932b27-ac9f-4def-aff9-6a442b7943b2",
   "metadata": {},
   "outputs": [],
   "source": [
    "class PytorchExampleNet(torch.nn.Module):\n",
    "    def __init__(self):\n",
    "        super(PytorchExampleNet, self).__init__()\n",
    "        self.conv1 = torch.nn.Conv2d(1, 32, 3, 1)\n",
    "        self.conv2 = torch.nn.Conv2d(32, 64, 3, 1)\n",
    "        self.dropout1 = torch.nn.Dropout(0.25)\n",
    "        self.dropout2 = torch.nn.Dropout(0.5)\n",
    "        self.fc1 = torch.nn.Linear(9216, 128)\n",
    "        self.fc2 = torch.nn.Linear(128, 10)\n",
    "\n",
    "    def forward(self, x):\n",
    "        x = self.conv1(x)\n",
    "        x = torch.nn.functional.relu(x)\n",
    "        x = self.conv2(x)\n",
    "        x = torch.nn.functional.relu(x)\n",
    "        x = torch.nn.functional.max_pool2d(x, 2)\n",
    "        x = self.dropout1(x)\n",
    "        x = torch.flatten(x, 1)\n",
    "        x = self.fc1(x)\n",
    "        x = torch.nn.functional.relu(x)\n",
    "        x = self.dropout2(x)\n",
    "        x = self.fc2(x)\n",
    "        output = torch.nn.functional.log_softmax(x, dim=1)\n",
    "        return output"
   ]
  },
  {
   "cell_type": "code",
   "execution_count": 7,
   "id": "e53a7251-671a-4bf4-8893-b4bfe16f3742",
   "metadata": {},
   "outputs": [
    {
     "data": {
      "text/plain": [
       "PytorchExampleNet(\n",
       "  (conv1): Conv2d(1, 32, kernel_size=(3, 3), stride=(1, 1))\n",
       "  (conv2): Conv2d(32, 64, kernel_size=(3, 3), stride=(1, 1))\n",
       "  (dropout1): Dropout(p=0.25, inplace=False)\n",
       "  (dropout2): Dropout(p=0.5, inplace=False)\n",
       "  (fc1): Linear(in_features=9216, out_features=128, bias=True)\n",
       "  (fc2): Linear(in_features=128, out_features=10, bias=True)\n",
       ")"
      ]
     },
     "execution_count": 7,
     "metadata": {},
     "output_type": "execute_result"
    }
   ],
   "source": [
    "model = PytorchExampleNet()\n",
    "if not torch.cuda.is_available():\n",
    "    raise Exception(\"cuda is required\")\n",
    "model.cuda()"
   ]
  },
  {
   "cell_type": "markdown",
   "id": "27727b3b-5390-45d5-9cfc-dd4b993c7678",
   "metadata": {},
   "source": [
    "### Train"
   ]
  },
  {
   "cell_type": "code",
   "execution_count": 8,
   "id": "4eca473f-c3cd-4ebf-bb03-6badcc7fa5da",
   "metadata": {},
   "outputs": [],
   "source": [
    "optimizer = torch.optim.SGD(model.parameters(), lr=1e-5, momentum=0.9, weight_decay=5e-4)\n",
    "criterion = torch.nn.CrossEntropyLoss()"
   ]
  },
  {
   "cell_type": "code",
   "execution_count": 9,
   "id": "003b9811-21a3-48ef-967e-7f1519567eff",
   "metadata": {},
   "outputs": [
    {
     "name": "stdout",
     "output_type": "stream",
     "text": [
      "train 0 tensor(21.9083) 5516.46257174015\n",
      "val 0 tensor(49.3900) 850.8003145456314\n",
      "train 1 tensor(66.5400) 4246.705506682396\n",
      "val 1 tensor(78.4900) 514.1091899871826\n",
      "train 2 tensor(81.2867) 2210.3008322119713\n",
      "val 2 tensor(85.1700) 260.9531975835562\n",
      "train 3 tensor(85.9783) 1372.1215751171112\n",
      "val 3 tensor(87.9100) 192.12499111890793\n",
      "train 4 tensor(87.9583) 1107.120007827878\n",
      "val 4 tensor(89.2800) 164.60313782840967\n"
     ]
    }
   ],
   "source": [
    "model.train()\n",
    "for epoch in range(num_train_epochs):\n",
    "    train_loss = 0\n",
    "    correct = 0\n",
    "    total = 0\n",
    "    for batch_idx, (inputs, targets) in enumerate(train_dataloader):\n",
    "        inputs, targets = inputs.cuda(), targets.cuda()\n",
    "        optimizer.zero_grad()\n",
    "        inputs, targets = torch.autograd.Variable(inputs), torch.autograd.Variable(targets)\n",
    "        outputs = model(inputs)\n",
    "        loss = criterion(outputs, targets)\n",
    "        loss.backward()\n",
    "        optimizer.step()\n",
    "\n",
    "        train_loss += loss.item()\n",
    "        _, predicted = torch.max(outputs.data, 1)\n",
    "        total += targets.size(0)\n",
    "        correct += predicted.eq(targets.data).cpu().sum()\n",
    "\n",
    "    epoch_loss = train_loss\n",
    "    epoch_accuracy = 100.*correct/total\n",
    "    print(\"train\", epoch, epoch_accuracy, epoch_loss)\n",
    "\n",
    "    model.eval()\n",
    "    test_loss = 0\n",
    "    correct = 0\n",
    "    total = 0\n",
    "    with torch.no_grad():\n",
    "        for batch_idx, (inputs, targets) in enumerate(val_dataloader):\n",
    "            inputs, targets = inputs.cuda(), targets.cuda()\n",
    "            inputs, targets = torch.autograd.Variable(inputs), torch.autograd.Variable(targets)\n",
    "            outputs = model(inputs)\n",
    "            loss = criterion(outputs, targets)\n",
    "\n",
    "            test_loss += loss.item()\n",
    "            _, predicted = torch.max(outputs.data, 1)\n",
    "            total += targets.size(0)\n",
    "            correct += predicted.eq(targets.data).cpu().sum()\n",
    "\n",
    "    epoch_loss = test_loss\n",
    "    epoch_accuracy = 100.*correct/total\n",
    "    print(\"val\", epoch, epoch_accuracy, epoch_loss)\n",
    "\n",
    "    "
   ]
  },
  {
   "cell_type": "markdown",
   "id": "38e1f014-1db0-47e4-89be-00f3fbd00f3a",
   "metadata": {},
   "source": [
    "### manual check "
   ]
  },
  {
   "cell_type": "code",
   "execution_count": 10,
   "id": "22d7d91d-aa1a-43c5-902d-c2053ea26063",
   "metadata": {},
   "outputs": [
    {
     "name": "stdout",
     "output_type": "stream",
     "text": [
      "label 7\n",
      "pred 7\n",
      "label 2\n",
      "pred 2\n",
      "label 1\n",
      "pred 1\n"
     ]
    }
   ],
   "source": [
    "model.eval()\n",
    "for i in range(3):\n",
    "    print(\"label\", val_dataset[i][1])\n",
    "    print(\"pred\", model(val_dataset[i][0][None, :, :].cuda()).argmax().item())\n",
    "    "
   ]
  },
  {
   "cell_type": "markdown",
   "id": "3717f4f9-bcaa-4e2e-8c49-2bffb61e3493",
   "metadata": {},
   "source": [
    "### adversarial backprop"
   ]
  },
  {
   "cell_type": "markdown",
   "id": "e7a80270-dbdc-4d5c-be91-5f2b3e6353ee",
   "metadata": {},
   "source": [
    "change first image in dataset from 7 to 2"
   ]
  },
  {
   "cell_type": "code",
   "execution_count": 241,
   "id": "9f151ff8-db4e-4965-b471-293fc2bfadaa",
   "metadata": {},
   "outputs": [
    {
     "name": "stdout",
     "output_type": "stream",
     "text": [
      "pred [0.001 0.000 0.000 0.001 0.000 0.000 0.000 0.991 0.001 0.006] 7\n"
     ]
    }
   ],
   "source": [
    "# original preds\n",
    "orig_image = copy.deepcopy(val_dataset[0][0].cuda())\n",
    "pred = torch.softmax(model(orig_image[None, :, :]), 1)\n",
    "print(\"pred\", \"[\"+\" \".join([\"{0:0.3f}\".format(i) for i in pred.tolist()[0]])+\"]\", pred.argmax().item())"
   ]
  },
  {
   "cell_type": "code",
   "execution_count": 242,
   "id": "34c691d6-8fa5-4cd7-8835-499789182b26",
   "metadata": {},
   "outputs": [],
   "source": [
    "adv_image = torch.Tensor(orig_image)\n",
    "adv_image.requires_grad = True"
   ]
  },
  {
   "cell_type": "code",
   "execution_count": 243,
   "id": "d7a898d8-258a-4c5d-b081-a5fa9b845c1d",
   "metadata": {},
   "outputs": [],
   "source": [
    "optimizer_adv = torch.optim.Adam([adv_image], lr=1e-2, weight_decay=1e-3)\n",
    "for i in range(100):\n",
    "    outputs = model(adv_image[None, :, :])\n",
    "    targets = torch.tensor([2]).cuda()\n",
    "    optimizer_adv.zero_grad()\n",
    "    loss = criterion(outputs, targets)\n",
    "    loss.backward()\n",
    "    optimizer_adv.step()"
   ]
  },
  {
   "cell_type": "code",
   "execution_count": 244,
   "id": "d64eea7b-a2b4-4c47-b820-b33ceadf1f50",
   "metadata": {},
   "outputs": [
    {
     "name": "stdout",
     "output_type": "stream",
     "text": [
      "tensor(0.0198, device='cuda:0')\n"
     ]
    }
   ],
   "source": [
    "print(adv_image.grad.max())"
   ]
  },
  {
   "cell_type": "code",
   "execution_count": 245,
   "id": "137ce507-54f3-4051-99d3-b90706a43c0a",
   "metadata": {},
   "outputs": [
    {
     "name": "stdout",
     "output_type": "stream",
     "text": [
      "pred [0.026 0.001 0.760 0.087 0.003 0.022 0.004 0.073 0.019 0.007] 2\n"
     ]
    }
   ],
   "source": [
    "pred_adv = torch.softmax(model(adv_image[None, :, :]), 1)\n",
    "print(\"pred\", \"[\"+\" \".join([\"{0:0.3f}\".format(i) for i in pred_adv.tolist()[0]])+\"]\", pred_adv.argmax().item())"
   ]
  },
  {
   "cell_type": "code",
   "execution_count": 246,
   "id": "d59a4824-b8a6-4df6-acd3-8eea8b33fbb6",
   "metadata": {},
   "outputs": [],
   "source": [
    "import matplotlib.pyplot"
   ]
  },
  {
   "cell_type": "code",
   "execution_count": 247,
   "id": "76d05719-d040-4cfa-b68b-3ea54f44ab6d",
   "metadata": {},
   "outputs": [
    {
     "data": {
      "text/plain": [
       "<matplotlib.image.AxesImage at 0x22321406510>"
      ]
     },
     "execution_count": 247,
     "metadata": {},
     "output_type": "execute_result"
    },
    {
     "data": {
      "image/png": "[encoded data removed]",
      "text/plain": [
       "<Figure size 640x480 with 1 Axes>"
      ]
     },
     "metadata": {},
     "output_type": "display_data"
    }
   ],
   "source": [
    "matplotlib.pyplot.imshow(adv_image[0].cpu().detach().numpy())"
   ]
  },
  {
   "cell_type": "code",
   "execution_count": 248,
   "id": "2e08c11f-592f-4b0f-bce7-bd14e9af169b",
   "metadata": {},
   "outputs": [
    {
     "data": {
      "text/plain": [
       "<matplotlib.image.AxesImage at 0x223214eb920>"
      ]
     },
     "execution_count": 248,
     "metadata": {},
     "output_type": "execute_result"
    },
    {
     "data": {
      "image/png": "[encoded data removed]",
      "text/plain": [
       "<Figure size 640x480 with 1 Axes>"
      ]
     },
     "metadata": {},
     "output_type": "display_data"
    }
   ],
   "source": [
    "matplotlib.pyplot.imshow(val_dataset[0][0].cpu().numpy()[0])"
   ]
  },
  {
   "cell_type": "code",
   "execution_count": 215,
   "id": "2cd1765d-4054-4965-880e-6d63556d78e9",
   "metadata": {},
   "outputs": [
    {
     "data": {
      "text/plain": [
       "tensor(0.5708, grad_fn=<MaxBackward1>)"
      ]
     },
     "execution_count": 215,
     "metadata": {},
     "output_type": "execute_result"
    }
   ],
   "source": [
    "(val_dataset[0][0][0].cpu()-adv_image[0].cpu()).max()"
   ]
  },
  {
   "cell_type": "code",
   "execution_count": 182,
   "id": "f562ddd5-032b-467a-aca3-53fda69dba4a",
   "metadata": {},
   "outputs": [
    {
     "data": {
      "text/plain": [
       "tensor(3.6941, grad_fn=<MaxBackward1>)"
      ]
     },
     "execution_count": 182,
     "metadata": {},
     "output_type": "execute_result"
    }
   ],
   "source": [
    "adv_image[0].cpu().max()"
   ]
  },
  {
   "cell_type": "code",
   "execution_count": null,
   "id": "6c7a1782-f2ff-4c61-ac8c-5cc21365faa1",
   "metadata": {},
   "outputs": [],
   "source": []
  }
 ],
 "metadata": {
  "kernelspec": {
   "display_name": "Python 3 (ipykernel)",
   "language": "python",
   "name": "python3"
  },
  "language_info": {
   "codemirror_mode": {
    "name": "ipython",
    "version": 3
   },
   "file_extension": ".py",
   "mimetype": "text/x-python",
   "name": "python",
   "nbconvert_exporter": "python",
   "pygments_lexer": "ipython3",
   "version": "3.12.2"
  }
 },
 "nbformat": 4,
 "nbformat_minor": 5
}
